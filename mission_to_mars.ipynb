{
 "cells": [
  {
   "cell_type": "code",
   "execution_count": 29,
   "metadata": {},
   "outputs": [],
   "source": [
    "# Import BeautifulSoup, Splinter, Chromedriver\n",
    "from bs4 import BeautifulSoup\n",
    "from splinter import Browser\n",
    "from selenium.webdriver.chrome.options import Options\n",
    "import pandas as pd\n",
    "import requests\n",
    "import time\n",
    "executable_path = {\"executable_path\": \"chromedriver\"}"
   ]
  },
  {
   "cell_type": "markdown",
   "metadata": {},
   "source": [
    "# Step 1 - Scraping\n",
    "\n",
    "Complete your initial scraping using Jupyter Notebook, BeautifulSoup, Pandas, and Requests/Splinter.\n",
    "Create a Jupyter Notebook file called mission_to_mars.ipynb and use this to complete all of your scraping and analysis tasks. The following outlines what you need to scrape."
   ]
  },
  {
   "cell_type": "markdown",
   "metadata": {},
   "source": [
    "## Creating a dictionary to fill with the extracted data from several websites"
   ]
  },
  {
   "cell_type": "code",
   "execution_count": 25,
   "metadata": {},
   "outputs": [],
   "source": [
    "data={}"
   ]
  },
  {
   "cell_type": "markdown",
   "metadata": {},
   "source": [
    "### NASA Mars News\n",
    "Scrape the NASA Mars News Site and collect the latest News Title and Paragraph Text. Assign the text to variables that you can reference later."
   ]
  },
  {
   "cell_type": "code",
   "execution_count": 32,
   "metadata": {},
   "outputs": [],
   "source": [
    "url = \"https://mars.nasa.gov/news/?page=0&per_page=40&order=publish_date+desc%2Ccreated_at+desc&search=&category=19%2C165%2C184%2C204&blank_scope=Latest\"\n",
    "\n",
    "options=Options()\n",
    "options.add_argument('--ignore-certificate-errors')\n",
    "browser = Browser(\"chrome\", **executable_path, headless=False,chrome_options=options)\n",
    "browser.visit(url)\n",
    "html = browser.html\n",
    "soup = BeautifulSoup(html, 'html.parser')\n"
   ]
  },
  {
   "cell_type": "code",
   "execution_count": 33,
   "metadata": {},
   "outputs": [],
   "source": [
    "NASA_Mars_news={}\n",
    "for item_list in soup.find_all('li',class_='slide'):\n",
    "    item=item_list.find('div',class_='image_and_description_container')\n",
    "    news_title=item.find('div', class_='content_title').text\n",
    "    news_p=item.find('div', class_='article_teaser_body').text\n",
    "    print(news_title)\n",
    "    print(news_p)\n",
    "    print()\n",
    "    NASA_Mars_news.update({news_title:news_p})\n",
    "data.update({'NASA_MARS_NEWS':NASA_Mars_news})"
   ]
  },
  {
   "cell_type": "markdown",
   "metadata": {
    "collapsed": true
   },
   "source": [
    "### JPL Mars Space Images - Featured Image\n",
    "Visit the url for JPL Featured Space Image here.\n",
    "Use splinter to navigate the site and find the image url for the current Featured Mars Image and assign the url string to a variable called featured_image_url."
   ]
  },
  {
   "cell_type": "code",
   "execution_count": 34,
   "metadata": {},
   "outputs": [
    {
     "name": "stdout",
     "output_type": "stream",
     "text": [
      "https://www.jpl.nasa.gov/spaceimages/images/wallpaper/PIA19871-1920x1200.jpg\n"
     ]
    }
   ],
   "source": [
    "#browser = Browser(\"chrome\", **executable_path, headless=False)\n",
    "url = \"https://www.jpl.nasa.gov/spaceimages/?search=&category=Mars\"\n",
    "browser.visit(url)\n",
    "browser.click_link_by_partial_text('FULL IMAGE')\n",
    "time.sleep(3)\n",
    "html = browser.html\n",
    "soup = BeautifulSoup(html, 'html.parser')\n",
    "temp = soup.find('div', {'id':'main_container'}).\\\n",
    "         find('div', {'id':'site_body'}).find('div', {'id':'page'}).\\\n",
    "        find('div', class_='carousel_container')\n",
    "\n",
    "url_part=temp.find('article')['style'].split('/',1)[1][:-3]\n",
    "featured_image_url=\"https://www.jpl.nasa.gov/\" + url_part\n",
    "\n",
    "print(featured_image_url)\n",
    "data.update({'JPL_MARS_SPACE_IMAGE':featured_image_url})"
   ]
  },
  {
   "cell_type": "markdown",
   "metadata": {},
   "source": [
    "### Mars Weather\n",
    "Visit the Mars Weather twitter account here and scrape the latest Mars weather tweet from the page. Save the tweet text for the weather report as a variable called mars_weather."
   ]
  },
  {
   "cell_type": "code",
   "execution_count": 35,
   "metadata": {},
   "outputs": [
    {
     "name": "stdout",
     "output_type": "stream",
     "text": [
      "Sunrise and sunset @NASAInSight sol 145, 5:30am and 6:30pm local time https://www.jpl.nasa.gov/spaceimages/details.php?id=PIA23201 …pic.twitter.com/GfLOt2KOWU\n"
     ]
    }
   ],
   "source": [
    "#browser = Browser(\"chrome\", **executable_path, headless=False)\n",
    "url='https://twitter.com/marswxreport?lang=en'\n",
    "browser.visit(url)  \n",
    "html = browser.html\n",
    "soup = BeautifulSoup(html, 'html.parser')\n",
    "mars_weather=soup.find('div',{'id':'doc'}).find('div',{'id':'timeline'}).\\\n",
    "        find('div',class_='stream').find('div',class_='content').p.text\n",
    "print(mars_weather)\n",
    "data.update({'MARS_WEATHER':mars_weather})"
   ]
  },
  {
   "cell_type": "markdown",
   "metadata": {},
   "source": [
    "### Mars Facts\n",
    "Visit the Mars Facts webpage here and use Pandas to scrape the table containing facts about the planet including Diameter, Mass, etc.\n",
    "Use Pandas to convert the data to a HTML table string."
   ]
  },
  {
   "cell_type": "code",
   "execution_count": 36,
   "metadata": {},
   "outputs": [],
   "source": [
    "request_mars_space_facts = requests.get(\"https://space-facts.com/mars/\")\n",
    "mars_facts= pd.read_html(request_mars_space_facts.text)[0]\n",
    "mars_facts.columns=['Facts', 'values']\n",
    "mars_facts.set_index('Facts',inplace=True)\n",
    "mars_facts=mars_facts.to_html(index='False',index_names='False')\n",
    "data.update({'MARS_FACTS':mars_facts})"
   ]
  },
  {
   "cell_type": "markdown",
   "metadata": {},
   "source": [
    "### Mars Hemispheres\n",
    "\n",
    "Visit the USGS Astrogeology site here to obtain high resolution images for each of Mar's hemispheres.\n",
    "You will need to click each of the links to the hemispheres in order to find the image url to the full resolution image.\n",
    "Save both the image url string for the full resolution hemisphere image, and the Hemisphere title containing the hemisphere name. Use a Python dictionary to store the data using the keys img_url and title. Append the dictionary with the image url string and the hemisphere title to a list. "
   ]
  },
  {
   "cell_type": "code",
   "execution_count": 38,
   "metadata": {},
   "outputs": [],
   "source": [
    "#browser = Browser(\"chrome\", **executable_path, headless=False)\n",
    "url='https://astrogeology.usgs.gov/search/results?q=hemisphere+enhanced&k1=target&v1=Mars'\n",
    "browser.visit(url)  \n",
    "html = browser.html\n",
    "soup = BeautifulSoup(html, 'html.parser')\n",
    "base_url='https://astrogeology.usgs.gov/'"
   ]
  },
  {
   "cell_type": "markdown",
   "metadata": {},
   "source": [
    "First, we find the hemisphere titles and then retrieve the full image from each webpage using the title"
   ]
  },
  {
   "cell_type": "markdown",
   "metadata": {},
   "source": [
    "#### Titles:"
   ]
  },
  {
   "cell_type": "code",
   "execution_count": 39,
   "metadata": {},
   "outputs": [
    {
     "name": "stdout",
     "output_type": "stream",
     "text": [
      "cerberus_enhanced\n",
      "schiaparelli_enhanced\n",
      "syrtis_major_enhanced\n",
      "valles_marineris_enhanced\n"
     ]
    }
   ],
   "source": [
    "collapse=soup.find('div', class_='collapsible results')\n",
    "hemisphere_titles=[]\n",
    "for no,item in enumerate(collapse.find_all('div',class_='item')):\n",
    "    print(item.a['href'].split('/')[-1])\n",
    "    hemisphere_titles.append(item.a['href'].split('/')[-1])"
   ]
  },
  {
   "cell_type": "markdown",
   "metadata": {},
   "source": [
    "#### Images + Dictionary"
   ]
  },
  {
   "cell_type": "code",
   "execution_count": 40,
   "metadata": {},
   "outputs": [
    {
     "name": "stdout",
     "output_type": "stream",
     "text": [
      "http://astropedia.astrogeology.usgs.gov/download/Mars/Viking/cerberus_enhanced.tif/full.jpg\n",
      "http://astropedia.astrogeology.usgs.gov/download/Mars/Viking/schiaparelli_enhanced.tif/full.jpg\n",
      "http://astropedia.astrogeology.usgs.gov/download/Mars/Viking/syrtis_major_enhanced.tif/full.jpg\n",
      "http://astropedia.astrogeology.usgs.gov/download/Mars/Viking/valles_marineris_enhanced.tif/full.jpg\n"
     ]
    }
   ],
   "source": [
    "img_base_url='https://astrogeology.usgs.gov/search/map/Mars/Viking/'\n",
    "hemisphere_image_urls ={}\n",
    "for no,tk in enumerate(hemisphere_titles):\n",
    "    #browser = Browser(\"chrome\", **executable_path, headless=False)\n",
    "    browser.visit(img_base_url+tk)\n",
    "    time.sleep(1)\n",
    "    html = browser.html\n",
    "    soup = BeautifulSoup(html, 'html.parser')\n",
    "    hemisphere_image_urls.update({f'title{no}':tk,\n",
    "                                  f'img_url{no}':soup.find('div',class_='container').\\\n",
    "                                  find('div',class_='downloads').ul.li.a['href']})\n",
    "    print(soup.find('div',class_='container').\\\n",
    "                                  find('div',class_='downloads').ul.li.a['href'])\n",
    "    \n",
    "data.update({'MARS_HEMISPHERES':hemisphere_image_urls})"
   ]
  },
  {
   "cell_type": "code",
   "execution_count": null,
   "metadata": {},
   "outputs": [],
   "source": [
    "data"
   ]
  },
  {
   "cell_type": "code",
   "execution_count": null,
   "metadata": {},
   "outputs": [],
   "source": []
  }
 ],
 "metadata": {
  "kernelspec": {
   "display_name": "Python 3",
   "language": "python",
   "name": "python3"
  },
  "language_info": {
   "codemirror_mode": {
    "name": "ipython",
    "version": 3
   },
   "file_extension": ".py",
   "mimetype": "text/x-python",
   "name": "python",
   "nbconvert_exporter": "python",
   "pygments_lexer": "ipython3",
   "version": "3.7.1"
  },
  "varInspector": {
   "cols": {
    "lenName": 16,
    "lenType": 16,
    "lenVar": 40
   },
   "kernels_config": {
    "python": {
     "delete_cmd_postfix": "",
     "delete_cmd_prefix": "del ",
     "library": "var_list.py",
     "varRefreshCmd": "print(var_dic_list())"
    },
    "r": {
     "delete_cmd_postfix": ") ",
     "delete_cmd_prefix": "rm(",
     "library": "var_list.r",
     "varRefreshCmd": "cat(var_dic_list()) "
    }
   },
   "types_to_exclude": [
    "module",
    "function",
    "builtin_function_or_method",
    "instance",
    "_Feature"
   ],
   "window_display": false
  }
 },
 "nbformat": 4,
 "nbformat_minor": 2
}
