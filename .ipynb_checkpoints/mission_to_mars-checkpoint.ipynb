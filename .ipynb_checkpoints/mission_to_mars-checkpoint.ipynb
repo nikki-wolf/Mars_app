{
 "cells": [
  {
   "cell_type": "code",
   "execution_count": 1,
   "metadata": {},
   "outputs": [],
   "source": [
    "# Import BeautifulSoup, Splinter, Chromedriver\n",
    "from bs4 import BeautifulSoup\n",
    "from splinter import Browser\n",
    "from selenium.webdriver.chrome.options import Options\n",
    "import pandas as pd\n",
    "import requests\n",
    "import time\n",
    "executable_path = {\"executable_path\": \"chromedriver\"}"
   ]
  },
  {
   "cell_type": "markdown",
   "metadata": {},
   "source": [
    "# Step 1 - Scraping\n",
    "\n",
    "Complete your initial scraping using Jupyter Notebook, BeautifulSoup, Pandas, and Requests/Splinter.\n",
    "Create a Jupyter Notebook file called mission_to_mars.ipynb and use this to complete all of your scraping and analysis tasks. The following outlines what you need to scrape."
   ]
  },
  {
   "cell_type": "markdown",
   "metadata": {},
   "source": [
    "## Creating a dictionary to fill with the extracted data from several websites"
   ]
  },
  {
   "cell_type": "code",
   "execution_count": 2,
   "metadata": {},
   "outputs": [],
   "source": [
    "data={}"
   ]
  },
  {
   "cell_type": "markdown",
   "metadata": {},
   "source": [
    "### NASA Mars News\n",
    "Scrape the NASA Mars News Site and collect the latest News Title and Paragraph Text. Assign the text to variables that you can reference later."
   ]
  },
  {
   "cell_type": "code",
   "execution_count": 3,
   "metadata": {},
   "outputs": [],
   "source": [
    "url = \"https://mars.nasa.gov/news/?page=0&per_page=40&order=publish_date+desc%2Ccreated_at+desc&search=&category=19%2C165%2C184%2C204&blank_scope=Latest\"\n",
    "\n",
    "options=Options()\n",
    "options.add_argument('--ignore-certificate-errors')\n",
    "browser = Browser(\"chrome\", **executable_path, headless=False,chrome_options=options)\n",
    "browser.visit(url)\n",
    "html = browser.html\n",
    "soup = BeautifulSoup(html, 'html.parser')\n"
   ]
  },
  {
   "cell_type": "code",
   "execution_count": 4,
   "metadata": {},
   "outputs": [
    {
     "name": "stdout",
     "output_type": "stream",
     "text": [
      "For InSight, Dust Cleanings Will Yield New Science\n",
      "Wind can be crucial to clearing dust from spacecraft solar panels on Mars. With InSight's meteorological sensors, scientists get their first measurements of wind and dust interacting \"live\" on the Martian surface.  \n",
      "\n",
      "InSight Captures Sunrise and Sunset on Mars\n",
      "InSight joins the rest of NASA's Red Planet surface missions, all of which have photographed either the start or end of a Martian day.\n",
      "\n",
      "NASA Social Media and Websites Win Webby Awards \n",
      "NASA's social media presence, the InSight mission social media accounts, NASA.gov and SolarSystem.NASA.gov will be honored at the 2019 Webby Awards - \"the Oscars of the Internet.\"\n",
      "\n",
      "NASA's InSight Detects First Likely 'Quake' on Mars\n",
      "While their causes are still unknown, one of three shaking events looks a lot like the quakes detected on the Moon by the Apollo missions.\n",
      "\n",
      "Things Are Stacking up for NASA's Mars 2020 Spacecraft\n",
      "As the July 2020 launch date inches closer, the next spacecraft headed to the Red Planet is assembled for more testing.\n",
      "\n",
      "Curiosity Tastes First Sample in 'Clay-Bearing Unit'\n",
      "This new region on Mars might reveal more about the role of water on Mount Sharp.\n",
      "\n",
      "More Testing for Mars InSight's 'Mole'\n",
      "After the mission's heat probe began hammering last week, it appears to have hit a rock. The team is analyzing data before they hammer again.\n",
      "\n",
      "NASA Garners 7 Webby Award Nominations\n",
      "Nominees include four JPL projects: the solar system and climate websites, InSight social media, and a 360-degree Earth video. Public voting closes April 18, 2019.\n",
      "\n",
      "Curiosity Captured Two Solar Eclipses on Mars\n",
      "Observing the Martian moons Phobos and Deimos crossing in front of the Sun helps scientists better understand their orbits.\n",
      "\n",
      "NASA's Mars Helicopter Completes Flight Tests\n",
      "The first helicopter to fly on Mars had its first flight on Earth.\n",
      "\n",
      "Asteroids, Hydrogen Make Great Recipe for Life on Mars\n",
      "Laser blasts in lab tests suggest asteroid bombardment could have provided key ingredients for life on ancient Mars.\n",
      "\n",
      "Catch NASA's JPL at the Clippers SciFest This Weekend\n",
      "Students and families can meet a Mars rover, take a virtual tour through our solar system and explore alien worlds with NASA's Jet Propulsion Laboratory at the Clippers SciFest SoCal.\n",
      "\n",
      "NASA's Mars 2020 Rover Is Put to the Test\n",
      "In January, Mars 2020 engineers and technicians took over JPL's cleanroom to put the mission's cruise, entry capsule, descent stage and rover through their paces.\n",
      "\n",
      "Opportunity's Parting Shot Was a Beautiful Panorama\n",
      "NASA declared the record-setting rover's mission complete on Feb. 13, 2019, but the final image from the rover has just been processed.\n",
      "\n",
      "Curiosity Resumes Operations After Switching Computers\n",
      "Curiosity experienced a computer reset on its Side-A computer on Wednesday, March 6, 2019 (Sol 2,339), that triggered the rover's safe mode.\n",
      "\n",
      "InSight Lands Praise and a Proclamation from LA County\n",
      "Several members of the Mars InSight team accepted a proclamation on behalf of the mission from L.A. County Board of Supervisors on Tuesday, Feb. 19.\n",
      "\n",
      "InSight Is the Newest Mars Weather Service\n",
      "By collecting data around the clock, NASA's lander will provide unique science about the Martian surface.\n",
      "\n",
      "Six Things to Know About NASA's Opportunity Rover\n",
      "Opportunity's mission is complete. Here are highlights from its time on Mars.\n",
      "\n",
      "NASA's Opportunity Rover Mission on Mars Comes to End\n",
      "NASA's Opportunity Mars rover mission is complete after 15 years on Mars. Opportunity's record-breaking exploration laid the groundwork for future missions to the Red Planet.\n",
      "\n",
      "NASA's InSight Prepares to Take Mars' Temperature\n",
      "The lander's second instrument is on the ground. But its ‘mole’ — a burrowing probe — has a long way to go.\n",
      "\n",
      "NASA to Share Results of Effort to Recover Mars Rover\n",
      "NASA will discuss the status of its Mars Exploration Rover Opportunity in a media briefing at 11 a.m. PST (2 p.m. EST) Wednesday, Feb. 13, from the Jet Propulsion Laboratory.\n",
      "\n",
      "NASA's MAVEN Spacecraft Shrinking its Mars Orbit to Prepare for Mars 2020 Rover\n",
      "The MAVEN spacecraft today is starting a campaign to tighten its orbit around Mars to prepare to serve as a data-relay satellite for NASA’s Mars 2020 rover, which launches next year.\n",
      "\n",
      "360 Video: Curiosity Rover Departs Vera Rubin Ridge\n",
      "This panorama from the Mast Camera (Mastcam) on NASA's Curiosity Mars rover was taken on Dec. 19 (Sol 2265). The rover's last drill location on Vera Rubin Ridge is visible, as well as the clay region it will spend the next year exploring.\n",
      "\n",
      "Beyond Mars, the Mini MarCO Spacecraft Fall Silent\n",
      "The first CubeSat mission to deep space may have reached their limit, but they could inspire future NASA missions.\n",
      "\n",
      "InSight's Seismometer Now Has a Cozy Shelter on Mars\n",
      "A domed shield has been set over one of InSight's primary science instruments, protecting it from Mars' wind and temperature changes.\n",
      "\n",
      "\"Mars Buggy\" Curiosity Measures a Mountain's Gravity\n",
      "Smartphone-like sensors on the NASA rover were used to calculate the density of Mount Sharp, offering new clues to its formation.\n",
      "\n",
      "Curiosity Says Farewell to Mars' Vera Rubin Ridge\n",
      "The Mars rover is moving on and has taken its last selfie on the ridge it's explored for more than a year.\n",
      "\n",
      "Rover Team Beaming New Commands to Opportunity on Mars\n",
      "Engineers at JPL have begun transmitting a new set of commands to Opportunity in an attempt to compel the Mars rover to contact Earth.\n",
      "\n",
      "NASA's Opportunity Rover Logs 15 Years on Mars\n",
      "The rover landed in a region of the Red Planet called Meridiani Planum 16 years ago today, on Jan. 24, 2004.\n",
      "\n",
      "NASA's InSight Places First Instrument on Mars\n",
      "In deploying its first instrument onto the surface of Mars, the lander completes a major mission milestone.\n",
      "\n",
      "InSight Engineers Have Made a Martian Rock Garden\n",
      "Reconstructing Mars here on Earth lets them practice setting down the lander's science instruments.\n",
      "\n",
      "Mars InSight Lander Seen in First Images from Space \n",
      "Look closely, and you can make out the lander's solar panels.\n",
      "\n",
      "NASA's InSight Takes Its First Selfie\n",
      "Two new image mosaics detail the lander's deck and \"workspace\" — the surface where it will eventually set down its science instruments.\n",
      "\n",
      "NASA InSight Lander 'Hears' Martian Winds \n",
      "Vibrations picked up by two spacecraft instruments have provided the first sounds of Martian wind.\n",
      "\n",
      "NASA's Mars InSight Flexes Its Arm\n",
      "Now unstowed, the spacecraft's robotic arm will point a camera located on its elbow and take images of the surroundings.\n",
      "\n",
      "Mars New Home 'a Large Sandbox'\n",
      "With InSight safely on the surface of Mars, the mission team is busy learning more about the spacecraft's landing site.\n",
      "\n",
      "NASA Hears MarCO CubeSats Loud and Clear from Mars \n",
      "A pair of tiny, experimental spacecraft fulfilled their mission yesterday, relaying back near-real-time data during InSight's landing.\n",
      "\n",
      "InSight Is Catching Rays on Mars\n",
      "The lander has sent data indicating its solar panels are open and receiving sunlight to power its surface operations.\n",
      "\n",
      "NASA InSight Lander Arrives on Martian Surface \n",
      "The touchdown marks the eighth time NASA has successfully landed a spacecraft on Mars.\n",
      "\n",
      "Landing Day for InSight\n",
      "NASA's InSight spacecraft is on target for Mars landing at around noon PST today.\n",
      "\n"
     ]
    }
   ],
   "source": [
    "NASA_Mars_news={}\n",
    "for item_list in soup.find_all('li',class_='slide'):\n",
    "    item=item_list.find('div',class_='image_and_description_container')\n",
    "    news_title=item.find('div', class_='content_title').text\n",
    "    news_p=item.find('div', class_='article_teaser_body').text\n",
    "    print(news_title)\n",
    "    print(news_p)\n",
    "    print()\n",
    "    NASA_Mars_news.update({news_title:news_p})\n",
    "data.update({'NASA_MARS_NEWS':NASA_Mars_news})"
   ]
  },
  {
   "cell_type": "markdown",
   "metadata": {
    "collapsed": true
   },
   "source": [
    "### JPL Mars Space Images - Featured Image\n",
    "Visit the url for JPL Featured Space Image here.\n",
    "Use splinter to navigate the site and find the image url for the current Featured Mars Image and assign the url string to a variable called featured_image_url."
   ]
  },
  {
   "cell_type": "code",
   "execution_count": 5,
   "metadata": {},
   "outputs": [
    {
     "name": "stdout",
     "output_type": "stream",
     "text": [
      "https://www.jpl.nasa.gov/spaceimages/images/wallpaper/PIA19643-1920x1200.jpg\n"
     ]
    }
   ],
   "source": [
    "#browser = Browser(\"chrome\", **executable_path, headless=False)\n",
    "url = \"https://www.jpl.nasa.gov/spaceimages/?search=&category=Mars\"\n",
    "browser.visit(url)\n",
    "browser.click_link_by_partial_text('FULL IMAGE')\n",
    "time.sleep(3)\n",
    "html = browser.html\n",
    "soup = BeautifulSoup(html, 'html.parser')\n",
    "temp = soup.find('div', {'id':'main_container'}).\\\n",
    "         find('div', {'id':'site_body'}).find('div', {'id':'page'}).\\\n",
    "        find('div', class_='carousel_container')\n",
    "\n",
    "url_part=temp.find('article')['style'].split('/',1)[1][:-3]\n",
    "featured_image_url=\"https://www.jpl.nasa.gov/\" + url_part\n",
    "\n",
    "print(featured_image_url)\n",
    "data.update({'JPL_MARS_SPACE_IMAGE':featured_image_url})"
   ]
  },
  {
   "cell_type": "markdown",
   "metadata": {},
   "source": [
    "### Mars Weather\n",
    "Visit the Mars Weather twitter account here and scrape the latest Mars weather tweet from the page. Save the tweet text for the weather report as a variable called mars_weather."
   ]
  },
  {
   "cell_type": "code",
   "execution_count": 6,
   "metadata": {},
   "outputs": [
    {
     "name": "stdout",
     "output_type": "stream",
     "text": [
      "InSight sol 156 (2019-05-05) low -99.2ºC (-146.6ºF) high -18.1ºC (-0.6ºF)\n",
      "winds from the SW at 4.7 m/s (10.5 mph) gusting to 13.8 m/s (30.8 mph)\n",
      "pressure at 7.40 hPapic.twitter.com/FlGDeYg8hi\n"
     ]
    }
   ],
   "source": [
    "#browser = Browser(\"chrome\", **executable_path, headless=False)\n",
    "url='https://twitter.com/marswxreport?lang=en'\n",
    "browser.visit(url)  \n",
    "html = browser.html\n",
    "soup = BeautifulSoup(html, 'html.parser')\n",
    "mars_weather=soup.find('div',{'id':'doc'}).find('div',{'id':'timeline'}).\\\n",
    "        find('div',class_='stream').find('div',class_='content').p.text\n",
    "print(mars_weather)\n",
    "data.update({'MARS_WEATHER':mars_weather})"
   ]
  },
  {
   "cell_type": "markdown",
   "metadata": {},
   "source": [
    "### Mars Facts\n",
    "Visit the Mars Facts webpage here and use Pandas to scrape the table containing facts about the planet including Diameter, Mass, etc.\n",
    "Use Pandas to convert the data to a HTML table string."
   ]
  },
  {
   "cell_type": "code",
   "execution_count": 7,
   "metadata": {},
   "outputs": [],
   "source": [
    "request_mars_space_facts = requests.get(\"https://space-facts.com/mars/\")\n",
    "mars_facts= pd.read_html(request_mars_space_facts.text)[0]\n",
    "mars_facts.columns=['Facts', 'values']\n",
    "mars_facts.set_index('Facts',inplace=True)\n",
    "mars_facts=mars_facts.to_html(index='False',index_names='False')\n",
    "data.update({'MARS_FACTS':mars_facts})"
   ]
  },
  {
   "cell_type": "markdown",
   "metadata": {},
   "source": [
    "### Mars Hemispheres\n",
    "\n",
    "Visit the USGS Astrogeology site here to obtain high resolution images for each of Mar's hemispheres.\n",
    "You will need to click each of the links to the hemispheres in order to find the image url to the full resolution image.\n",
    "Save both the image url string for the full resolution hemisphere image, and the Hemisphere title containing the hemisphere name. Use a Python dictionary to store the data using the keys img_url and title. Append the dictionary with the image url string and the hemisphere title to a list. "
   ]
  },
  {
   "cell_type": "code",
   "execution_count": 8,
   "metadata": {},
   "outputs": [],
   "source": [
    "#browser = Browser(\"chrome\", **executable_path, headless=False)\n",
    "url='https://astrogeology.usgs.gov/search/results?q=hemisphere+enhanced&k1=target&v1=Mars'\n",
    "browser.visit(url)  \n",
    "html = browser.html\n",
    "soup = BeautifulSoup(html, 'html.parser')\n",
    "base_url='https://astrogeology.usgs.gov/'"
   ]
  },
  {
   "cell_type": "markdown",
   "metadata": {},
   "source": [
    "First, we find the hemisphere titles and then retrieve the full image from each webpage using the title"
   ]
  },
  {
   "cell_type": "markdown",
   "metadata": {},
   "source": [
    "#### Titles:"
   ]
  },
  {
   "cell_type": "code",
   "execution_count": 9,
   "metadata": {},
   "outputs": [
    {
     "name": "stdout",
     "output_type": "stream",
     "text": [
      "cerberus_enhanced\n",
      "schiaparelli_enhanced\n",
      "syrtis_major_enhanced\n",
      "valles_marineris_enhanced\n"
     ]
    }
   ],
   "source": [
    "collapse=soup.find('div', class_='collapsible results')\n",
    "hemisphere_titles_li=[]\n",
    "for no,item in enumerate(collapse.find_all('div',class_='item')):\n",
    "    print(item.a['href'].split('/')[-1])\n",
    "    hemisphere_titles_li.append(item.a['href'].split('/')[-1])  "
   ]
  },
  {
   "cell_type": "markdown",
   "metadata": {},
   "source": [
    "#### Images + Dictionary"
   ]
  },
  {
   "cell_type": "code",
   "execution_count": 14,
   "metadata": {},
   "outputs": [
    {
     "name": "stdout",
     "output_type": "stream",
     "text": [
      "http://astropedia.astrogeology.usgs.gov/download/Mars/Viking/cerberus_enhanced.tif/full.jpg\n"
     ]
    },
    {
     "ename": "TypeError",
     "evalue": "list indices must be integers or slices, not str",
     "output_type": "error",
     "traceback": [
      "\u001b[1;31m---------------------------------------------------------------------------\u001b[0m",
      "\u001b[1;31mTypeError\u001b[0m                                 Traceback (most recent call last)",
      "\u001b[1;32m<ipython-input-14-c8db6652751e>\u001b[0m in \u001b[0;36m<module>\u001b[1;34m\u001b[0m\n\u001b[0;32m     17\u001b[0m     print(soup.find('div',class_='container').\\\n\u001b[0;32m     18\u001b[0m                                   find('div',class_='downloads').ul.li.a['href'])\n\u001b[1;32m---> 19\u001b[1;33m     \u001b[0mhemisphere_titimg\u001b[0m\u001b[1;33m[\u001b[0m\u001b[1;34m'title'\u001b[0m\u001b[1;33m]\u001b[0m\u001b[1;33m=\u001b[0m\u001b[0mtk\u001b[0m\u001b[1;33m.\u001b[0m\u001b[0mstrip\u001b[0m\u001b[1;33m(\u001b[0m\u001b[1;33m)\u001b[0m\u001b[1;33m\u001b[0m\u001b[1;33m\u001b[0m\u001b[0m\n\u001b[0m\u001b[0;32m     20\u001b[0m     \u001b[0mhemisphere_titimg\u001b[0m\u001b[1;33m[\u001b[0m\u001b[1;34m'image'\u001b[0m\u001b[1;33m]\u001b[0m\u001b[1;33m=\u001b[0m\u001b[0msoup\u001b[0m\u001b[1;33m.\u001b[0m\u001b[0mfind\u001b[0m\u001b[1;33m(\u001b[0m\u001b[1;34m'div'\u001b[0m\u001b[1;33m,\u001b[0m\u001b[0mclass_\u001b[0m\u001b[1;33m=\u001b[0m\u001b[1;34m'container'\u001b[0m\u001b[1;33m)\u001b[0m\u001b[1;33m.\u001b[0m\u001b[0;31m\\\u001b[0m\u001b[1;33m\u001b[0m\u001b[1;33m\u001b[0m\u001b[0m\n\u001b[0;32m     21\u001b[0m                                 \u001b[0mfind\u001b[0m\u001b[1;33m(\u001b[0m\u001b[1;34m'div'\u001b[0m\u001b[1;33m,\u001b[0m\u001b[0mclass_\u001b[0m\u001b[1;33m=\u001b[0m\u001b[1;34m'downloads'\u001b[0m\u001b[1;33m)\u001b[0m\u001b[1;33m.\u001b[0m\u001b[0mul\u001b[0m\u001b[1;33m.\u001b[0m\u001b[0mli\u001b[0m\u001b[1;33m.\u001b[0m\u001b[0ma\u001b[0m\u001b[1;33m[\u001b[0m\u001b[1;34m'href'\u001b[0m\u001b[1;33m]\u001b[0m\u001b[1;33m\u001b[0m\u001b[1;33m\u001b[0m\u001b[0m\n",
      "\u001b[1;31mTypeError\u001b[0m: list indices must be integers or slices, not str"
     ]
    }
   ],
   "source": [
    "img_base_url='https://astrogeology.usgs.gov/search/map/Mars/Viking/'\n",
    "#hemisphere_image_urls ={}\n",
    "#hemisphere_titles ={}\n",
    "hemispheres_titimg=[]\n",
    "for no,tk in enumerate(hemisphere_titles_li):\n",
    "    hemisphere_titimg={}\n",
    "    browser.visit(img_base_url+tk)\n",
    "    time.sleep(1)\n",
    "    html = browser.html\n",
    "    soup = BeautifulSoup(html, 'html.parser')\n",
    "    #hemisphere_titles.update({f'title{no}':tk})\n",
    "    #hemisphere_image_urls.update({f'img_url{no}':soup.find('div',class_='container').\\\n",
    "    #                            find('div',class_='downloads').ul.li.a['href']})\n",
    "    hemisphere_titimg['title']=tk\n",
    "    hemisphere_titimg['image']=soup.find('div',class_='container').\\\n",
    "                                find('div',class_='downloads').ul.li.a['href']\n",
    "    hemispheres_titimg.append(hemisphere_titimg)\n",
    "\n",
    "#data.update({'MARS_HEMISPHERES_TITLES':hemisphere_titles})      \n",
    "#data.update({'MARS_HEMISPHERES_IMAGES':hemisphere_image_urls})\n",
    "data.update({'MARS_HEMISPHERES_IMAGES':hemispheres_titimg})\n"
   ]
  },
  {
   "cell_type": "code",
   "execution_count": 11,
   "metadata": {},
   "outputs": [
    {
     "data": {
      "text/plain": [
       "{'NASA_MARS_NEWS': {'For InSight, Dust Cleanings Will Yield New Science': 'Wind can be crucial to clearing dust from spacecraft solar panels on Mars. With InSight\\'s meteorological sensors, scientists get their first measurements of wind and dust interacting \"live\" on the Martian surface.  ',\n",
       "  'InSight Captures Sunrise and Sunset on Mars': \"InSight joins the rest of NASA's Red Planet surface missions, all of which have photographed either the start or end of a Martian day.\",\n",
       "  'NASA Social Media and Websites Win Webby Awards ': 'NASA\\'s social media presence, the InSight mission social media accounts, NASA.gov and SolarSystem.NASA.gov will be honored at the 2019 Webby Awards - \"the Oscars of the Internet.\"',\n",
       "  \"NASA's InSight Detects First Likely 'Quake' on Mars\": 'While their causes are still unknown, one of three shaking events looks a lot like the quakes detected on the Moon by the Apollo missions.',\n",
       "  \"Things Are Stacking up for NASA's Mars 2020 Spacecraft\": 'As the July 2020 launch date inches closer, the next spacecraft headed to the Red Planet is assembled for more testing.',\n",
       "  \"Curiosity Tastes First Sample in 'Clay-Bearing Unit'\": 'This new region on Mars might reveal more about the role of water on Mount Sharp.',\n",
       "  \"More Testing for Mars InSight's 'Mole'\": \"After the mission's heat probe began hammering last week, it appears to have hit a rock. The team is analyzing data before they hammer again.\",\n",
       "  'NASA Garners 7 Webby Award Nominations': 'Nominees include four JPL projects: the solar system and climate websites, InSight social media, and a 360-degree Earth video. Public voting closes April 18, 2019.',\n",
       "  'Curiosity Captured Two Solar Eclipses on Mars': 'Observing the Martian moons Phobos and Deimos crossing in front of the Sun helps scientists better understand their orbits.',\n",
       "  \"NASA's Mars Helicopter Completes Flight Tests\": 'The first helicopter to fly on Mars had its first flight on Earth.',\n",
       "  'Asteroids, Hydrogen Make Great Recipe for Life on Mars': 'Laser blasts in lab tests suggest asteroid bombardment could have provided key ingredients for life on ancient Mars.',\n",
       "  \"Catch NASA's JPL at the Clippers SciFest This Weekend\": \"Students and families can meet a Mars rover, take a virtual tour through our solar system and explore alien worlds with NASA's Jet Propulsion Laboratory at the Clippers SciFest SoCal.\",\n",
       "  \"NASA's Mars 2020 Rover Is Put to the Test\": \"In January, Mars 2020 engineers and technicians took over JPL's cleanroom to put the mission's cruise, entry capsule, descent stage and rover through their paces.\",\n",
       "  \"Opportunity's Parting Shot Was a Beautiful Panorama\": \"NASA declared the record-setting rover's mission complete on Feb. 13, 2019, but the final image from the rover has just been processed.\",\n",
       "  'Curiosity Resumes Operations After Switching Computers': \"Curiosity experienced a computer reset on its Side-A computer on Wednesday, March 6, 2019 (Sol 2,339), that triggered the rover's safe mode.\",\n",
       "  'InSight Lands Praise and a Proclamation from LA County': 'Several members of the Mars InSight team accepted a proclamation on behalf of the mission from L.A. County Board of Supervisors on Tuesday, Feb. 19.',\n",
       "  'InSight Is the Newest Mars Weather Service': \"By collecting data around the clock, NASA's lander will provide unique science about the Martian surface.\",\n",
       "  \"Six Things to Know About NASA's Opportunity Rover\": \"Opportunity's mission is complete. Here are highlights from its time on Mars.\",\n",
       "  \"NASA's Opportunity Rover Mission on Mars Comes to End\": \"NASA's Opportunity Mars rover mission is complete after 15 years on Mars. Opportunity's record-breaking exploration laid the groundwork for future missions to the Red Planet.\",\n",
       "  \"NASA's InSight Prepares to Take Mars' Temperature\": \"The lander's second instrument is on the ground. But its ‘mole’ — a burrowing probe — has a long way to go.\",\n",
       "  'NASA to Share Results of Effort to Recover Mars Rover': 'NASA will discuss the status of its Mars Exploration Rover Opportunity in a media briefing at 11 a.m. PST (2 p.m. EST) Wednesday, Feb. 13, from the Jet Propulsion Laboratory.',\n",
       "  \"NASA's MAVEN Spacecraft Shrinking its Mars Orbit to Prepare for Mars 2020 Rover\": 'The MAVEN spacecraft today is starting a campaign to tighten its orbit around Mars to prepare to serve as a data-relay satellite for NASA’s Mars 2020 rover, which launches next year.',\n",
       "  '360 Video: Curiosity Rover Departs Vera Rubin Ridge': \"This panorama from the Mast Camera (Mastcam) on NASA's Curiosity Mars rover was taken on Dec. 19 (Sol 2265). The rover's last drill location on Vera Rubin Ridge is visible, as well as the clay region it will spend the next year exploring.\",\n",
       "  'Beyond Mars, the Mini MarCO Spacecraft Fall Silent': 'The first CubeSat mission to deep space may have reached their limit, but they could inspire future NASA missions.',\n",
       "  \"InSight's Seismometer Now Has a Cozy Shelter on Mars\": \"A domed shield has been set over one of InSight's primary science instruments, protecting it from Mars' wind and temperature changes.\",\n",
       "  '\"Mars Buggy\" Curiosity Measures a Mountain\\'s Gravity': 'Smartphone-like sensors on the NASA rover were used to calculate the density of Mount Sharp, offering new clues to its formation.',\n",
       "  \"Curiosity Says Farewell to Mars' Vera Rubin Ridge\": \"The Mars rover is moving on and has taken its last selfie on the ridge it's explored for more than a year.\",\n",
       "  'Rover Team Beaming New Commands to Opportunity on Mars': 'Engineers at JPL have begun transmitting a new set of commands to Opportunity in an attempt to compel the Mars rover to contact Earth.',\n",
       "  \"NASA's Opportunity Rover Logs 15 Years on Mars\": 'The rover landed in a region of the Red Planet called Meridiani Planum 16 years ago today, on Jan. 24, 2004.',\n",
       "  \"NASA's InSight Places First Instrument on Mars\": 'In deploying its first instrument onto the surface of Mars, the lander completes a major mission milestone.',\n",
       "  'InSight Engineers Have Made a Martian Rock Garden': \"Reconstructing Mars here on Earth lets them practice setting down the lander's science instruments.\",\n",
       "  'Mars InSight Lander Seen in First Images from Space ': \"Look closely, and you can make out the lander's solar panels.\",\n",
       "  \"NASA's InSight Takes Its First Selfie\": 'Two new image mosaics detail the lander\\'s deck and \"workspace\" — the surface where it will eventually set down its science instruments.',\n",
       "  \"NASA InSight Lander 'Hears' Martian Winds \": 'Vibrations picked up by two spacecraft instruments have provided the first sounds of Martian wind.',\n",
       "  \"NASA's Mars InSight Flexes Its Arm\": \"Now unstowed, the spacecraft's robotic arm will point a camera located on its elbow and take images of the surroundings.\",\n",
       "  \"Mars New Home 'a Large Sandbox'\": \"With InSight safely on the surface of Mars, the mission team is busy learning more about the spacecraft's landing site.\",\n",
       "  'NASA Hears MarCO CubeSats Loud and Clear from Mars ': \"A pair of tiny, experimental spacecraft fulfilled their mission yesterday, relaying back near-real-time data during InSight's landing.\",\n",
       "  'InSight Is Catching Rays on Mars': 'The lander has sent data indicating its solar panels are open and receiving sunlight to power its surface operations.',\n",
       "  'NASA InSight Lander Arrives on Martian Surface ': 'The touchdown marks the eighth time NASA has successfully landed a spacecraft on Mars.',\n",
       "  'Landing Day for InSight': \"NASA's InSight spacecraft is on target for Mars landing at around noon PST today.\"},\n",
       " 'JPL_MARS_SPACE_IMAGE': 'https://www.jpl.nasa.gov/spaceimages/images/wallpaper/PIA19643-1920x1200.jpg',\n",
       " 'MARS_WEATHER': 'InSight sol 156 (2019-05-05) low -99.2ºC (-146.6ºF) high -18.1ºC (-0.6ºF)\\nwinds from the SW at 4.7 m/s (10.5 mph) gusting to 13.8 m/s (30.8 mph)\\npressure at 7.40 hPapic.twitter.com/FlGDeYg8hi',\n",
       " 'MARS_FACTS': '<table border=\"1\" class=\"dataframe\">\\n  <thead>\\n    <tr style=\"text-align: right;\">\\n      <th></th>\\n      <th>values</th>\\n    </tr>\\n    <tr>\\n      <th>Facts</th>\\n      <th></th>\\n    </tr>\\n  </thead>\\n  <tbody>\\n    <tr>\\n      <th>Equatorial Diameter:</th>\\n      <td>6,792 km</td>\\n    </tr>\\n    <tr>\\n      <th>Polar Diameter:</th>\\n      <td>6,752 km</td>\\n    </tr>\\n    <tr>\\n      <th>Mass:</th>\\n      <td>6.42 x 10^23 kg (10.7% Earth)</td>\\n    </tr>\\n    <tr>\\n      <th>Moons:</th>\\n      <td>2 (Phobos &amp; Deimos)</td>\\n    </tr>\\n    <tr>\\n      <th>Orbit Distance:</th>\\n      <td>227,943,824 km (1.52 AU)</td>\\n    </tr>\\n    <tr>\\n      <th>Orbit Period:</th>\\n      <td>687 days (1.9 years)</td>\\n    </tr>\\n    <tr>\\n      <th>Surface Temperature:</th>\\n      <td>-153 to 20 °C</td>\\n    </tr>\\n    <tr>\\n      <th>First Record:</th>\\n      <td>2nd millennium BC</td>\\n    </tr>\\n    <tr>\\n      <th>Recorded By:</th>\\n      <td>Egyptian astronomers</td>\\n    </tr>\\n  </tbody>\\n</table>',\n",
       " 'MARS_HEMISPHERES_IMAGES': {'title': 'valles_marineris_enhanced',\n",
       "  'image': 'http://astropedia.astrogeology.usgs.gov/download/Mars/Viking/valles_marineris_enhanced.tif/full.jpg'}}"
      ]
     },
     "execution_count": 11,
     "metadata": {},
     "output_type": "execute_result"
    }
   ],
   "source": [
    "data"
   ]
  },
  {
   "cell_type": "code",
   "execution_count": null,
   "metadata": {},
   "outputs": [],
   "source": []
  },
  {
   "cell_type": "code",
   "execution_count": null,
   "metadata": {},
   "outputs": [],
   "source": []
  },
  {
   "cell_type": "code",
   "execution_count": null,
   "metadata": {},
   "outputs": [],
   "source": []
  },
  {
   "cell_type": "code",
   "execution_count": null,
   "metadata": {},
   "outputs": [],
   "source": []
  }
 ],
 "metadata": {
  "kernelspec": {
   "display_name": "Python 3",
   "language": "python",
   "name": "python3"
  },
  "language_info": {
   "codemirror_mode": {
    "name": "ipython",
    "version": 3
   },
   "file_extension": ".py",
   "mimetype": "text/x-python",
   "name": "python",
   "nbconvert_exporter": "python",
   "pygments_lexer": "ipython3",
   "version": "3.7.1"
  },
  "varInspector": {
   "cols": {
    "lenName": 16,
    "lenType": 16,
    "lenVar": 40
   },
   "kernels_config": {
    "python": {
     "delete_cmd_postfix": "",
     "delete_cmd_prefix": "del ",
     "library": "var_list.py",
     "varRefreshCmd": "print(var_dic_list())"
    },
    "r": {
     "delete_cmd_postfix": ") ",
     "delete_cmd_prefix": "rm(",
     "library": "var_list.r",
     "varRefreshCmd": "cat(var_dic_list()) "
    }
   },
   "types_to_exclude": [
    "module",
    "function",
    "builtin_function_or_method",
    "instance",
    "_Feature"
   ],
   "window_display": false
  }
 },
 "nbformat": 4,
 "nbformat_minor": 2
}
